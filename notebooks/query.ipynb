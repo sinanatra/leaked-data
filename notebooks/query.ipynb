{
 "cells": [
  {
   "cell_type": "code",
   "execution_count": 55,
   "metadata": {},
   "outputs": [],
   "source": [
    "import requests\n",
    "import pandas as pd\n",
    "import networkx as nx\n",
    "import time\n",
    "from urllib.parse import urlencode"
   ]
  },
  {
   "cell_type": "code",
   "execution_count": 8,
   "metadata": {},
   "outputs": [],
   "source": [
    "API_KEY = \"API\"\n",
    "BASE_URL = \"https://search.libraryofleaks.org/api/2\"\n",
    "HEADERS = {} # {\"Authorization\": f\"ApiKey {API_KEY}\"}"
   ]
  },
  {
   "cell_type": "code",
   "execution_count": 92,
   "metadata": {},
   "outputs": [],
   "source": [
    "def search_entities(query, schema, limit=10):\n",
    "    url = f\"{BASE_URL}/entities\"\n",
    "    headers = {\"Authorization\": f\"ApiKey {API_KEY}\"}\n",
    "    params = {\n",
    "        \"q\": query,\n",
    "        \"filter:schema\": schema,\n",
    "        \"limit\": limit\n",
    "    }\n",
    "    response = requests.get(url, headers=headers, params=params)\n",
    "    return response.json()\n",
    "\n",
    "def get_connected_entities(entity_id, limit=10, property_filter=None):\n",
    "    url = f\"{BASE_URL}/entities/{entity_id}/expand\"\n",
    "    headers = {\"Authorization\": f\"ApiKey {API_KEY}\"}\n",
    "    params = {\n",
    "        \"limit\": limit\n",
    "    }\n",
    "    if property_filter:\n",
    "        params[\"filter:property\"] = property_filter\n",
    "    response = requests.get(url, headers=headers, params=params)\n",
    "    return response.json()"
   ]
  },
  {
   "cell_type": "code",
   "execution_count": 91,
   "metadata": {},
   "outputs": [
    {
     "name": "stdout",
     "output_type": "stream",
     "text": [
      "ID: 53df99a5722b05454f1b96d3faf74f05a34bd924.84eb01f451c926ab25538d24e095e9a6d4505f02, data: {'mutable': False, 'schema': 'Person', 'properties': {'email': ['Trump@grace.ocn.ne.jp'], 'name': ['Donald Trump']}, 'score': 82.40213, 'id': '53df99a5722b05454f1b96d3faf74f05a34bd924.84eb01f451c926ab25538d24e095e9a6d4505f02', 'writeable': False, 'links': {'self': 'https://search.libraryofleaks.org/api/2/entities/53df99a5722b05454f1b96d3faf74f05a34bd924.84eb01f451c926ab25538d24e095e9a6d4505f02', 'expand': 'https://search.libraryofleaks.org/api/2/entities/53df99a5722b05454f1b96d3faf74f05a34bd924.84eb01f451c926ab25538d24e095e9a6d4505f02/expand', 'tags': 'https://search.libraryofleaks.org/api/2/entities/53df99a5722b05454f1b96d3faf74f05a34bd924.84eb01f451c926ab25538d24e095e9a6d4505f02/tags', 'ui': 'https://search.libraryofleaks.org/entities/53df99a5722b05454f1b96d3faf74f05a34bd924.84eb01f451c926ab25538d24e095e9a6d4505f02'}, 'collection': {'created_at': '2024-10-28T16:32:39.179908', 'updated_at': '2024-12-02T15:07:18.877930', 'category': 'leak', 'frequency': 'never', 'countries': ['us'], 'languages': ['eng'], 'collection_id': '6', 'foreign_id': 'ddos_huter_biden_emails', 'data_updated_at': '2024-10-28T23:20:43.628203', 'label': 'Hunter Biden emails', 'summary': 'Approximately 128,500 emails allegedly from the Hunter Biden laptop. The emails are primarily dated between 2009 and 2019. There are some anomalies with the dates and the number of emails, in addition to concerns about the chain of custody. There are considerable issues with this dataset including signs of tampering.\\n\\nMore than one altered or implanted emails was detected in a version of this dataset, which is being distributed by Trump allies and former staffers. The known possibly tampered emails were created between August 31, 2020 and September 2, 2020. The existence of other possibly tampered emails cannot be ruled out. \\n\\nSee also: [This timeline](https://ddosecrets.com/article/hunter-biden-emails#Timeline).', 'info_url': 'https://ddosecrets.com/article/hunter-biden-emails', 'data_url': 'https://data.ddosecrets.com/Hunter%20Biden%20emails/', 'casefile': False, 'secret': False, 'xref': False, 'restricted': False, 'count': 215244, 'id': '6', 'writeable': False, 'links': {'self': 'https://search.libraryofleaks.org/api/2/collections/6', 'xref_export': 'https://search.libraryofleaks.org/api/2/collections/6/xref.xlsx', 'reconcile': 'https://search.libraryofleaks.org/api/2/collections/6/reconcile', 'ui': 'https://search.libraryofleaks.org/datasets/6'}, 'shallow': True}, 'shallow': True}\n",
      "ID: d654722e18bcc9e9ac5966813a8b5240c73dd219.bd5391ca2181dff595e743aaa31dea72a3642eb7, data: {'mutable': False, 'schema': 'Person', 'properties': {'name': ['Donald Trump'], 'email': ['donaldjtrump2200@gmail.com']}, 'score': 82.25147, 'id': 'd654722e18bcc9e9ac5966813a8b5240c73dd219.bd5391ca2181dff595e743aaa31dea72a3642eb7', 'writeable': False, 'links': {'self': 'https://search.libraryofleaks.org/api/2/entities/d654722e18bcc9e9ac5966813a8b5240c73dd219.bd5391ca2181dff595e743aaa31dea72a3642eb7', 'expand': 'https://search.libraryofleaks.org/api/2/entities/d654722e18bcc9e9ac5966813a8b5240c73dd219.bd5391ca2181dff595e743aaa31dea72a3642eb7/expand', 'tags': 'https://search.libraryofleaks.org/api/2/entities/d654722e18bcc9e9ac5966813a8b5240c73dd219.bd5391ca2181dff595e743aaa31dea72a3642eb7/tags', 'ui': 'https://search.libraryofleaks.org/entities/d654722e18bcc9e9ac5966813a8b5240c73dd219.bd5391ca2181dff595e743aaa31dea72a3642eb7'}, 'collection': {'created_at': '2024-10-28T16:32:39.179908', 'updated_at': '2024-12-02T15:07:18.877930', 'category': 'leak', 'frequency': 'never', 'countries': ['us'], 'languages': ['eng'], 'collection_id': '6', 'foreign_id': 'ddos_huter_biden_emails', 'data_updated_at': '2024-10-28T23:20:43.628203', 'label': 'Hunter Biden emails', 'summary': 'Approximately 128,500 emails allegedly from the Hunter Biden laptop. The emails are primarily dated between 2009 and 2019. There are some anomalies with the dates and the number of emails, in addition to concerns about the chain of custody. There are considerable issues with this dataset including signs of tampering.\\n\\nMore than one altered or implanted emails was detected in a version of this dataset, which is being distributed by Trump allies and former staffers. The known possibly tampered emails were created between August 31, 2020 and September 2, 2020. The existence of other possibly tampered emails cannot be ruled out. \\n\\nSee also: [This timeline](https://ddosecrets.com/article/hunter-biden-emails#Timeline).', 'info_url': 'https://ddosecrets.com/article/hunter-biden-emails', 'data_url': 'https://data.ddosecrets.com/Hunter%20Biden%20emails/', 'casefile': False, 'secret': False, 'xref': False, 'restricted': False, 'count': 215244, 'writeable': False, 'links': {'self': 'https://search.libraryofleaks.org/api/2/collections/6', 'xref_export': 'https://search.libraryofleaks.org/api/2/collections/6/xref.xlsx', 'reconcile': 'https://search.libraryofleaks.org/api/2/collections/6/reconcile', 'ui': 'https://search.libraryofleaks.org/datasets/6'}, 'shallow': True, 'id': '6'}, 'shallow': True}\n",
      "ID: 13497452d56fa952d8bd050e15c22b423a558c5c.0ecc943519c5ce13e6c14317b604f30ff2eca9b5, data: {'mutable': False, 'schema': 'Person', 'properties': {'name': ['DonaldJTrump.com', 'Donald J. Trump', 'Lara Trump'], 'email': ['email@gop.com']}, 'score': 71.062, 'id': '13497452d56fa952d8bd050e15c22b423a558c5c.0ecc943519c5ce13e6c14317b604f30ff2eca9b5', 'writeable': False, 'links': {'self': 'https://search.libraryofleaks.org/api/2/entities/13497452d56fa952d8bd050e15c22b423a558c5c.0ecc943519c5ce13e6c14317b604f30ff2eca9b5', 'expand': 'https://search.libraryofleaks.org/api/2/entities/13497452d56fa952d8bd050e15c22b423a558c5c.0ecc943519c5ce13e6c14317b604f30ff2eca9b5/expand', 'tags': 'https://search.libraryofleaks.org/api/2/entities/13497452d56fa952d8bd050e15c22b423a558c5c.0ecc943519c5ce13e6c14317b604f30ff2eca9b5/tags', 'ui': 'https://search.libraryofleaks.org/entities/13497452d56fa952d8bd050e15c22b423a558c5c.0ecc943519c5ce13e6c14317b604f30ff2eca9b5'}, 'collection': {'created_at': '2025-01-04T23:07:05.784004', 'updated_at': '2025-01-08T06:28:37.249681', 'category': 'leak', 'frequency': 'never', 'countries': ['us'], 'collection_id': '53', 'foreign_id': 'ddos_alliance_coal', 'data_updated_at': '2025-01-04T23:42:05.084094', 'label': 'Alliance Coal', 'summary': '42 GB of files, including over 180,000 emails, from the second largest coal producer in the Eastern U.S.', 'info_url': 'https://ddosecrets.com/article/alliance-coal', 'casefile': False, 'secret': False, 'xref': False, 'restricted': False, 'count': 42522, 'id': '53', 'writeable': False, 'links': {'self': 'https://search.libraryofleaks.org/api/2/collections/53', 'xref_export': 'https://search.libraryofleaks.org/api/2/collections/53/xref.xlsx', 'reconcile': 'https://search.libraryofleaks.org/api/2/collections/53/reconcile', 'ui': 'https://search.libraryofleaks.org/datasets/53'}, 'shallow': True}, 'shallow': True}\n",
      "ID: c4b60cfb4d792099e6cf2fac8705503d1a3b0d1d.8a4f4b0c13beffc94483acfa24b786992d973b46, data: {'mutable': False, 'schema': 'Person', 'properties': {'name': ['Lara Trump', 'DonaldJTrump.com', 'Donald J. Trump'], 'email': ['contact@action.gop.com']}, 'score': 69.114105, 'id': 'c4b60cfb4d792099e6cf2fac8705503d1a3b0d1d.8a4f4b0c13beffc94483acfa24b786992d973b46', 'writeable': False, 'links': {'self': 'https://search.libraryofleaks.org/api/2/entities/c4b60cfb4d792099e6cf2fac8705503d1a3b0d1d.8a4f4b0c13beffc94483acfa24b786992d973b46', 'expand': 'https://search.libraryofleaks.org/api/2/entities/c4b60cfb4d792099e6cf2fac8705503d1a3b0d1d.8a4f4b0c13beffc94483acfa24b786992d973b46/expand', 'tags': 'https://search.libraryofleaks.org/api/2/entities/c4b60cfb4d792099e6cf2fac8705503d1a3b0d1d.8a4f4b0c13beffc94483acfa24b786992d973b46/tags', 'ui': 'https://search.libraryofleaks.org/entities/c4b60cfb4d792099e6cf2fac8705503d1a3b0d1d.8a4f4b0c13beffc94483acfa24b786992d973b46'}, 'collection': {'created_at': '2025-01-04T23:07:05.784004', 'updated_at': '2025-01-08T06:28:37.249681', 'category': 'leak', 'frequency': 'never', 'countries': ['us'], 'collection_id': '53', 'foreign_id': 'ddos_alliance_coal', 'data_updated_at': '2025-01-04T23:42:05.084094', 'label': 'Alliance Coal', 'summary': '42 GB of files, including over 180,000 emails, from the second largest coal producer in the Eastern U.S.', 'info_url': 'https://ddosecrets.com/article/alliance-coal', 'casefile': False, 'secret': False, 'xref': False, 'restricted': False, 'count': 42522, 'writeable': False, 'links': {'self': 'https://search.libraryofleaks.org/api/2/collections/53', 'xref_export': 'https://search.libraryofleaks.org/api/2/collections/53/xref.xlsx', 'reconcile': 'https://search.libraryofleaks.org/api/2/collections/53/reconcile', 'ui': 'https://search.libraryofleaks.org/datasets/53'}, 'shallow': True, 'id': '53'}, 'shallow': True}\n"
     ]
    }
   ],
   "source": [
    "search_term = \"Donald Trump\"\n",
    "schema = \"Person\" \n",
    "\n",
    "results = search_entities(search_term, schema)\n",
    "for entity in results.get('results', []):\n",
    "    print(f\"ID: {entity.get('id')}, data: {entity}\")"
   ]
  },
  {
   "cell_type": "code",
   "execution_count": 99,
   "metadata": {},
   "outputs": [
    {
     "name": "stdout",
     "output_type": "stream",
     "text": [
      "Property: emailsSent\n",
      "  - Connected Entity: Unnamed (ID: 1219790.9ada18c8de2db4e4dcf12d9a5c6282c3bbeadac8)\n"
     ]
    }
   ],
   "source": [
    "entity_id = \"53df99a5722b05454f1b96d3faf74f05a34bd924.84eb01f451c926ab25538d24e095e9a6d4505f02\"\n",
    "results = get_connected_entities(entity_id, limit=20)\n",
    "\n",
    "if results.get(\"status\") == \"ok\" and \"results\" in results:\n",
    "    for item in results[\"results\"]:\n",
    "        property_name = item.get(\"property\")\n",
    "        print(f\"Property: {property_name}\")\n",
    "        \n",
    "        entities = item.get(\"entities\", [])\n",
    "        for entity in entities:\n",
    "            name = entity.get(\"properties\", {}).get(\"name\", [\"Unnamed\"])[0]\n",
    "            entity_id = entity.get(\"id\")\n",
    "            print(f\"  - Connected Entity: {name} (ID: {entity_id})\")\n",
    "else:\n",
    "    print(\"No connected entities found or invalid response.\")\n"
   ]
  },
  {
   "cell_type": "code",
   "execution_count": 107,
   "metadata": {},
   "outputs": [
    {
     "name": "stdout",
     "output_type": "stream",
     "text": [
      "Property: descendants\n",
      "  - Connected Entity: Type: Email, Label: Your ?Notarize, Inc.? receipt [#1570-7658], ID: 1213532.b7f8b4b4bbc3555cab3770ccb33def8872bbb1df\n",
      "  - Connected Entity: Type: Email, Label: Introducing MyCase: A New Member Benefit, ID: 1213635.53d384580b9d38a1a9d26c4aa12764c4ced5dd6b\n",
      "  - Connected Entity: Type: Document, Label: No Label, ID: 860abcdeee5095b30cc19fdae94d9278d55b1e10.cfb44f5fd4ddf943ea33923bf89bd60d189f0db2\n",
      "  - Connected Entity: Type: Email, Label: FW: Office of Vice President Biden Intelligence Briefing for Tuesday, February 12, 2019, ID: 1213898.d414a7bf6776ab4a7d24e3c1c3ec97ed0ad00c5e\n",
      "  - Connected Entity: Type: Email, Label: FW: Office of Vice President Biden Intelligence Briefing for Monday, March 11, 2019, ID: 1213850.f2ebe15c4c7a8126007a99ef284b6a766589c4d0\n",
      "  - Connected Entity: Type: Email, Label: RE : [ Payment Confirmed ] - Transaction Accepted : Thank's for your booking is sent to ...' PDF ' ... (fwd), ID: 1213957.87dad1fb91f8b52ff100b00546a2f5f21708db93\n",
      "  - Connected Entity: Type: Email, Label: Curtain Call | Up to 30% Off Ending Soon!, ID: 1213505.6f3e3ca3bf4b11cde351be99221cfa397a232a27\n",
      "  - Connected Entity: Type: Email, Label: Hallie, you have 1 new notification, ID: 1213679.2cb26ef88da5854da7f3f87df393260c857cc5f9\n",
      "  - Connected Entity: Type: Document, Label: No Label, ID: 1dbe4c3d5f84eec221b939e8e7950ce91c2ede0c.478968314addbfb468cb205629b391cb2a3e4e52\n",
      "  - Connected Entity: Type: Document, Label: No Label, ID: 07b0b8713b6951da6ccb71d76361e792194baa88.587fa55a3128a5328991634393d6c8bacb87f832\n",
      "  - Connected Entity: Type: Document, Label: No Label, ID: 5aded57a40fe58818a9d0696acaab5e79692b91b.70f42e9f590ca95773f81b2cf2aa7ec66ffa4dc3\n",
      "  - Connected Entity: Type: Email, Label: Nikki Beez (@BirdyandBeez) has sent you a Direct Message on Twitter!, ID: 1213563.d105dd34c0377c917354f9d4250926d20c449b32\n",
      "  - Connected Entity: Type: Document, Label: No Label, ID: 6c4c1d20cb98fb608139fe29ee4017ff8f0d1f88.9dec6cd878a9af89dfa919241e54fc1b94d35972\n",
      "  - Connected Entity: Type: Email, Label: Flash Points: Trump's second meeting with Kim, and Russia's deadliest weapons, ID: 1213538.5eda327950be988013d2fe7dc36bd56abb5eef57\n",
      "  - Connected Entity: Type: Email, Label: Truman Project Board: Welcome Frank Kendall and Invite to Member of Congress Reception, ID: 1216567.ab3d69c6e78de79e3263129c2f192135a0ee16e4\n",
      "  - Connected Entity: Type: Document, Label: No Label, ID: 04ba38a564bf8d8c6839fce563b031d832ef0672.4033f0242e4d225b03098d6f19b13f4ddb341b39\n",
      "  - Connected Entity: Type: Document, Label: No Label, ID: 692adfd0ac28c7c4a3141b17f553de7d4035c778.213096a4321c2992030999c7197e708b6ed657a3\n",
      "  - Connected Entity: Type: Document, Label: No Label, ID: 8e623e6e57bb8b08ad882b23102496512c5420e2.66dd78dbc7b48355dfb9583e3c648018fe013884\n",
      "  - Connected Entity: Type: Email, Label: Google Alert - biden, ID: 1213757.4fccb9b78bc14a504ae652ca6d9a7ef71f28777f\n",
      "  - Connected Entity: Type: Email, Label: Dental & Vision, ID: 1213863.3f4bc11cfd579272eef68dc743eaf02e972b3532\n",
      "  - Connected Entity: Type: Document, Label: No Label, ID: 4705c44100f60d4dfc37a60fb36afdd63bbc4a38.80fea6b3d1444c2ce5863830a953b1ed6b887b62\n",
      "  - Connected Entity: Type: Email, Label: My 2018 self-evaluation, ID: 1213708.25b46e0cf6b6893568a778c742bd272f9dca824d\n",
      "  - Connected Entity: Type: Email, Label: FW: Office of Vice President Biden Intelligence Briefing for Wednesday, January 16, 2019, ID: 1214186.f3183a4220fccf681f76cd929c30358bf970d741\n",
      "  - Connected Entity: Type: Document, Label: No Label, ID: 5b704706a87216cae2f63127596d8658cd7cb8ac.d0eab158cc702a570afa2496b01ebeaf5ea100c2\n",
      "  - Connected Entity: Type: Email, Label: Lax Week 1, ID: 1214157.dabba3dbbd83431f6fb2da7e89543e309542171c\n",
      "  - Connected Entity: Type: Email, Label: FW: Office of Vice President Biden Intelligence Briefing for Friday, March 1, 2019, ID: 1213669.5e475783b429ba875b71f077fc0f530b6e0b1cf8\n",
      "  - Connected Entity: Type: Email, Label: You've received a message from reghsvip, ID: 1213644.1589f3916aa999e22444619c8bca81ea034621b9\n",
      "  - Connected Entity: Type: Email, Label: FW: Office of Vice President Biden Intelligence Briefing for Wednesday, January 2, 2019, ID: 1213833.1c066412709be47b8877b0a3f93d61be3f2649a6\n",
      "  - Connected Entity: Type: Email, Label: POLITICO Playbook: Crisis, ID: 1213544.e264893658adfc171ad5b451082697d5433503e2\n",
      "Property: children\n"
     ]
    }
   ],
   "source": [
    "entity_id = \"1189008.d6b3d38b0489389da8132338cf749f83ae5c40c1\"\n",
    "results = get_connected_entities(entity_id, limit=10)\n",
    "\n",
    "if results.get(\"status\") == \"ok\" and \"results\" in results:\n",
    "    for item in results[\"results\"]:\n",
    "        property_name = item.get(\"property\")\n",
    "        print(f\"Property: {property_name}\")\n",
    "        \n",
    "        entities = item.get(\"entities\", [])\n",
    "        for entity in entities:\n",
    "            schema = entity.get(\"schema\", \"Unknown Type\")  # e.g., 'Email'\n",
    "            label = entity.get(\"properties\", {}).get(\"subject\", [\"No Label\"])[0] \n",
    "            entity_id = entity.get(\"id\", \"Unknown ID\")\n",
    "            print(f\"  - Connected Entity: Type: {schema}, Label: {label}, ID: {entity_id}\")\n",
    "else:\n",
    "    print(\"No connected entities found or invalid response.\")"
   ]
  }
 ],
 "metadata": {
  "kernelspec": {
   "display_name": ".venv",
   "language": "python",
   "name": "python3"
  },
  "language_info": {
   "codemirror_mode": {
    "name": "ipython",
    "version": 3
   },
   "file_extension": ".py",
   "mimetype": "text/x-python",
   "name": "python",
   "nbconvert_exporter": "python",
   "pygments_lexer": "ipython3",
   "version": "3.9.6"
  }
 },
 "nbformat": 4,
 "nbformat_minor": 2
}
