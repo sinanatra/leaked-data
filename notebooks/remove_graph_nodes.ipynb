{
 "cells": [
  {
   "cell_type": "code",
   "execution_count": 4,
   "metadata": {},
   "outputs": [],
   "source": [
    "import networkx as nx\n",
    "import pandas as pd"
   ]
  },
  {
   "cell_type": "code",
   "execution_count": 5,
   "metadata": {},
   "outputs": [],
   "source": [
    "\n",
    "def load_and_clean_graph(input_file, output_file, unwanted_types):\n",
    "    G = nx.read_graphml(input_file)\n",
    "    nodes_df = pd.DataFrame.from_dict(dict(G.nodes(data=True)), orient=\"index\")\n",
    "    nodes_df[\"id\"] = nodes_df.index \n",
    "    edges_df = pd.DataFrame(list(G.edges(data=True)), columns=[\"source\", \"target\", \"attributes\"])\n",
    "    nodes_cleaned = nodes_df[~nodes_df[\"type\"].isin(unwanted_types)]\n",
    " \n",
    "    filtered_node_ids = set(nodes_cleaned[\"id\"])\n",
    "    edges_cleaned = edges_df[\n",
    "        edges_df[\"source\"].isin(filtered_node_ids) & edges_df[\"target\"].isin(filtered_node_ids)\n",
    "    ]\n",
    "    G_cleaned = nx.DiGraph()\n",
    "\n",
    "    for _, node in nodes_cleaned.iterrows():\n",
    "        node_id = node[\"id\"]\n",
    "        attributes = node.drop(\"id\").to_dict()\n",
    "        G_cleaned.add_node(node_id, **attributes)\n",
    " \n",
    "    for _, edge in edges_cleaned.iterrows():\n",
    "        source = edge[\"source\"]\n",
    "        target = edge[\"target\"]\n",
    "        attributes = edge[\"attributes\"]\n",
    "        G_cleaned.add_edge(source, target, **attributes)\n",
    "\n",
    "    nx.write_graphml(G_cleaned, output_file)\n",
    "    print(f\"Cleaned graph saved to {output_file}\")"
   ]
  },
  {
   "cell_type": "code",
   "execution_count": null,
   "metadata": {},
   "outputs": [
    {
     "name": "stdout",
     "output_type": "stream",
     "text": [
      "Cleaned graph saved to data/test.graphml\n"
     ]
    }
   ],
   "source": [
    "\n",
    "input_graph_file = \"data/10_58200__cleaned_graph.graphml\"  \n",
    "output_graph_file = \"data/test.graphml\"  \n",
    "\n",
    "unwanted_types = [\n",
    "    \"detectedLanguage\",\n",
    "    # \"mimeType\",\n",
    "    \"ancestors\",\n",
    "    \"processingAgent\",\n",
    "    \"processingStatus\",\n",
    "    \"processedAt\",\n",
    "]\n",
    "\n",
    "load_and_clean_graph(input_graph_file, output_graph_file, unwanted_types)\n"
   ]
  }
 ],
 "metadata": {
  "kernelspec": {
   "display_name": ".venv",
   "language": "python",
   "name": "python3"
  },
  "language_info": {
   "codemirror_mode": {
    "name": "ipython",
    "version": 3
   },
   "file_extension": ".py",
   "mimetype": "text/x-python",
   "name": "python",
   "nbconvert_exporter": "python",
   "pygments_lexer": "ipython3",
   "version": "3.9.6"
  }
 },
 "nbformat": 4,
 "nbformat_minor": 2
}
