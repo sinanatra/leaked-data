{
 "cells": [
  {
   "cell_type": "code",
   "execution_count": 27,
   "metadata": {},
   "outputs": [],
   "source": [
    "import networkx as nx\n",
    "import pandas as pd"
   ]
  },
  {
   "cell_type": "code",
   "execution_count": 30,
   "metadata": {},
   "outputs": [],
   "source": [
    "import networkx as nx\n",
    "import pandas as pd\n",
    "\n",
    "def load_clean_add_centrality(input_file, output_file, ignore_types, delete_types):\n",
    "  \n",
    "    G = nx.read_graphml(input_file)\n",
    "    \n",
    "    nodes_df = pd.DataFrame.from_dict(dict(G.nodes(data=True)), orient=\"index\")\n",
    "    nodes_df[\"id\"] = nodes_df.index  # Ensure node IDs are preserved\n",
    "\n",
    "    delete_node_ids = nodes_df[nodes_df[\"type\"].isin(delete_types)][\"id\"]\n",
    "    G.remove_nodes_from(delete_node_ids)\n",
    "    print(f\"Removed {len(delete_node_ids)} nodes with delete_types: {delete_types}\")\n",
    "\n",
    "    nodes_df = pd.DataFrame.from_dict(dict(G.nodes(data=True)), orient=\"index\")\n",
    "    nodes_df[\"id\"] = nodes_df.index\n",
    "\n",
    "    allowed_node_ids = nodes_df[~nodes_df[\"type\"].isin(ignore_types)][\"id\"]\n",
    "    subgraph = G.subgraph(allowed_node_ids)\n",
    "    \n",
    "    eigenvector_centrality = nx.eigenvector_centrality(subgraph)\n",
    "\n",
    "    for node, centrality in eigenvector_centrality.items():\n",
    "        G.nodes[node][\"eigenvector_centrality\"] = centrality\n",
    "\n",
    "\n",
    "    nx.write_graphml(G, output_file)\n",
    "    print(f\"Updated graph with Eigenvector Centrality saved to {output_file}\")\n"
   ]
  },
  {
   "cell_type": "code",
   "execution_count": 29,
   "metadata": {},
   "outputs": [],
   "source": [
    "input_graph_file = \"data/collection_10.graphml\"  "
   ]
  },
  {
   "cell_type": "code",
   "execution_count": 31,
   "metadata": {},
   "outputs": [
    {
     "name": "stderr",
     "output_type": "stream",
     "text": [
      "Exception ignored in: <bound method IPythonKernel._clean_thread_parent_frames of <ipykernel.ipkernel.IPythonKernel object at 0x102c4cf40>>\n",
      "Traceback (most recent call last):\n",
      "  File \"/Users/giacomonanni/Documents/Development/leaked-data/.venv/lib/python3.9/site-packages/ipykernel/ipkernel.py\", line 775, in _clean_thread_parent_frames\n",
      "    def _clean_thread_parent_frames(\n",
      "KeyboardInterrupt: \n"
     ]
    },
    {
     "name": "stdout",
     "output_type": "stream",
     "text": [
      "Removed 8841 nodes with delete_types: ['detectedLanguage', 'mimeType', 'processingAgent', 'processingStatus', 'processedAt', 'authoredAt', 'fileName']\n",
      "Updated graph with Eigenvector Centrality saved to data/test.graphml\n"
     ]
    }
   ],
   "source": [
    "\n",
    "output_graph_file = \"data/test.graphml\"  \n",
    "\n",
    "ignore_types = [\n",
    "    \"parent\",\n",
    "    \"ancestors\",\n",
    "    \"fileName\",\n",
    "    \"generator\",\n",
    "]\n",
    "\n",
    "delete_types = [\n",
    "    \"detectedLanguage\",\n",
    "    \"mimeType\",\n",
    "    \"processingAgent\",\n",
    "    \"processingStatus\",\n",
    "    \"processedAt\",\n",
    "    \"authoredAt\",\n",
    "    \"fileName\",\n",
    "]\n",
    "\n",
    "load_clean_add_centrality(input_graph_file, output_graph_file, ignore_types, delete_types)"
   ]
  }
 ],
 "metadata": {
  "kernelspec": {
   "display_name": ".venv",
   "language": "python",
   "name": "python3"
  },
  "language_info": {
   "codemirror_mode": {
    "name": "ipython",
    "version": 3
   },
   "file_extension": ".py",
   "mimetype": "text/x-python",
   "name": "python",
   "nbconvert_exporter": "python",
   "pygments_lexer": "ipython3",
   "version": "3.9.6"
  }
 },
 "nbformat": 4,
 "nbformat_minor": 2
}
